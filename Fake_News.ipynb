{
  "nbformat": 4,
  "nbformat_minor": 0,
  "metadata": {
    "colab": {
      "provenance": []
    },
    "kernelspec": {
      "name": "python3",
      "display_name": "Python 3"
    },
    "language_info": {
      "name": "python"
    },
    "accelerator": "TPU"
  },
  "cells": [
    {
      "cell_type": "markdown",
      "source": [
        "Dataset link: https://www.kaggle.com/datasets/algord/fake-news\n"
      ],
      "metadata": {
        "id": "wKJZNrqwdaL7"
      }
    },
    {
      "cell_type": "code",
      "execution_count": 11,
      "metadata": {
        "colab": {
          "base_uri": "https://localhost:8080/"
        },
        "id": "PFNju1whqrN_",
        "outputId": "b840ac49-c69e-44de-f90d-45c6105653ff"
      },
      "outputs": [
        {
          "output_type": "stream",
          "name": "stdout",
          "text": [
            "Requirement already satisfied: pyTsetlinMachine in /usr/local/lib/python3.10/dist-packages (0.6.4)\n"
          ]
        }
      ],
      "source": [
        "\n",
        "!pip install pyTsetlinMachine\n",
        "import pandas as pd\n",
        "import matplotlib.pyplot as plt\n",
        "import seaborn as sns\n",
        "import numpy as np\n",
        "from sklearn.model_selection import train_test_split\n",
        "from sklearn.feature_extraction.text import CountVectorizer\n",
        "from sklearn.naive_bayes import MultinomialNB\n",
        "from sklearn.metrics import accuracy_score, precision_score, recall_score, f1_score, confusion_matrix\n",
        "from pyTsetlinMachine.tm import MultiClassTsetlinMachine\n"
      ]
    },
    {
      "cell_type": "code",
      "source": [
        "file_path = '/content/FakeNewsNet.csv'\n",
        "\n",
        "df = pd.read_csv(file_path)\n",
        "\n",
        "print(\"DataFrame Information:\")\n",
        "print(df.info())\n",
        "\n",
        "print(\"\\nFirst Row of the DataFrame:\")\n",
        "print(df.iloc[0])"
      ],
      "metadata": {
        "colab": {
          "base_uri": "https://localhost:8080/"
        },
        "id": "qFXSvAQjvmd6",
        "outputId": "c09031d3-b007-47e4-aada-c3f7e060de29"
      },
      "execution_count": 2,
      "outputs": [
        {
          "output_type": "stream",
          "name": "stdout",
          "text": [
            "DataFrame Information:\n",
            "<class 'pandas.core.frame.DataFrame'>\n",
            "RangeIndex: 23196 entries, 0 to 23195\n",
            "Data columns (total 5 columns):\n",
            " #   Column         Non-Null Count  Dtype \n",
            "---  ------         --------------  ----- \n",
            " 0   title          23196 non-null  object\n",
            " 1   news_url       22866 non-null  object\n",
            " 2   source_domain  22866 non-null  object\n",
            " 3   tweet_num      23196 non-null  int64 \n",
            " 4   real           23196 non-null  int64 \n",
            "dtypes: int64(2), object(3)\n",
            "memory usage: 906.2+ KB\n",
            "None\n",
            "\n",
            "First Row of the DataFrame:\n",
            "title            Kandi Burruss Explodes Over Rape Accusation on...\n",
            "news_url         http://toofab.com/2017/05/08/real-housewives-a...\n",
            "source_domain                                           toofab.com\n",
            "tweet_num                                                       42\n",
            "real                                                             1\n",
            "Name: 0, dtype: object\n"
          ]
        }
      ]
    },
    {
      "cell_type": "code",
      "source": [
        "random_articles = df.sample(n=10)\n",
        "\n",
        "for index, row in random_articles.iterrows():\n",
        "    print(f\"Title: {row['title']}\")\n",
        "    print(f\"News URL: {row['news_url']}\")\n",
        "    print(f\"Source Domain: {row['source_domain']}\")\n",
        "    print(f\"True/False: {'True' if row['real'] == 1 else 'False'}\")  # Assuming 'real' column indicates true or false\n",
        "    print(\"------\")"
      ],
      "metadata": {
        "colab": {
          "base_uri": "https://localhost:8080/"
        },
        "id": "xjs2pRqAwPKy",
        "outputId": "57b857e6-1780-4ed1-991a-d3639be8c745"
      },
      "execution_count": 3,
      "outputs": [
        {
          "output_type": "stream",
          "name": "stdout",
          "text": [
            "Title: Selena Gomez’s mom told her not to work with Woody Allen\n",
            "News URL: https://www.nydailynews.com/entertainment/movies/selena-gomez-mom-told-not-work-woody-allen-article-1.3760060\n",
            "Source Domain: www.nydailynews.com\n",
            "True/False: True\n",
            "------\n",
            "Title: Paris Jackson Clarifies Her Dating Status With Cara Delevingne, Ashley Benson, and Caroline D'Amore\n",
            "News URL: www.wmagazine.com/story/paris-jackson-cara-delevingne-ashley-benson-caroline-damore-rumors\n",
            "Source Domain: www.wmagazine.com\n",
            "True/False: False\n",
            "------\n",
            "Title: Duchess Catherine and Princess Mette-Marit are giving us major Frozen vibes\n",
            "News URL: https://www.channel24.co.za/Gossip/Royal-News/duchess-catherine-and-princess-mette-marit-are-giving-us-major-frozen-vibes-20180204\n",
            "Source Domain: www.channel24.co.za\n",
            "True/False: True\n",
            "------\n",
            "Title: How Rita Ora Masters Self-Acceptance With The Open Mic Project\n",
            "News URL: http://www.powerslc.com/2017/11/17/how-rita-ora-masters-self-acceptance-with-the-open-mic-project/\n",
            "Source Domain: www.powerslc.com\n",
            "True/False: True\n",
            "------\n",
            "Title: Taylor Swift's New Album Reputation: 10 Convincing Theories\n",
            "News URL: http://time.com/4944028/taylor-swift-reputation-album-theories/\n",
            "Source Domain: time.com\n",
            "True/False: True\n",
            "------\n",
            "Title: Lyla Garrity\n",
            "News URL: https://en.wikipedia.org/wiki/Lyla_Garrity\n",
            "Source Domain: en.wikipedia.org\n",
            "True/False: True\n",
            "------\n",
            "Title: Khloé Kardashian Has Allegedly Given Birth To A Baby Girl Amid Tristan Thompson Cheating Drama\n",
            "News URL: https://www.elle.com/uk/life-and-culture/culture/a19596141/khloe-kardashian-gives-birth-baby-girl/\n",
            "Source Domain: www.elle.com\n",
            "True/False: True\n",
            "------\n",
            "Title: Macaulay Culkin and Brenda Song Spotted Holding Hands on \"Affectionate\" Date Night\n",
            "News URL: https://www.longroom.com/discussion/710109/macaulay-culkin-and-brenda-song-spotted-holding-hands-on-affectionate-date-night\n",
            "Source Domain: www.longroom.com\n",
            "True/False: True\n",
            "------\n",
            "Title: Brad Pitt GQ Divorce Interview  Highlights On Angelina Jolie  Kids And Drinking\n",
            "News URL: nan\n",
            "Source Domain: nan\n",
            "True/False: False\n",
            "------\n",
            "Title: How To Find YOUR Perfect Pair Of Overalls\n",
            "News URL: https://www.refinery29.com/en-us/cool-overalls-details\n",
            "Source Domain: www.refinery29.com\n",
            "True/False: True\n",
            "------\n"
          ]
        }
      ]
    },
    {
      "cell_type": "code",
      "source": [
        "print(\"Missing values in each column:\")\n",
        "print(df.isnull().sum())\n",
        "\n",
        "# Handling missing values\n",
        "df.dropna(inplace=True)\n",
        "\n",
        "print(\"\\nMissing values after handling:\")\n",
        "print(df.isnull().sum())"
      ],
      "metadata": {
        "colab": {
          "base_uri": "https://localhost:8080/"
        },
        "id": "soaEMiuzFeq8",
        "outputId": "f6f53bd4-6d87-43d7-cde3-e366be6e1c43"
      },
      "execution_count": 4,
      "outputs": [
        {
          "output_type": "stream",
          "name": "stdout",
          "text": [
            "Missing values in each column:\n",
            "title              0\n",
            "news_url         330\n",
            "source_domain    330\n",
            "tweet_num          0\n",
            "real               0\n",
            "dtype: int64\n",
            "\n",
            "Missing values after handling:\n",
            "title            0\n",
            "news_url         0\n",
            "source_domain    0\n",
            "tweet_num        0\n",
            "real             0\n",
            "dtype: int64\n"
          ]
        }
      ]
    },
    {
      "cell_type": "code",
      "source": [
        "fake_real_count = df['real'].value_counts()\n",
        "\n",
        "total_news = len(df)\n",
        "fake_ratio = fake_real_count[0] / total_news\n",
        "real_ratio = fake_real_count[1] / total_news\n",
        "\n",
        "# Plotting the bar graph\n",
        "plt.figure(figsize=(10, 6))\n",
        "sns.barplot(x=fake_real_count.index, y=fake_real_count.values, palette=\"vlag\")\n",
        "plt.title('Distribution and Ratio of Fake and Real News')\n",
        "plt.xlabel('News Type (0 = Fake, 1 = Real)')\n",
        "plt.ylabel('Count')\n",
        "plt.xticks([0, 1], ['Fake (Ratio: {:.2f})'.format(fake_ratio), 'Real (Ratio: {:.2f})'.format(real_ratio)])\n",
        "\n",
        "# Show the plot\n",
        "plt.show()"
      ],
      "metadata": {
        "colab": {
          "base_uri": "https://localhost:8080/",
          "height": 564
        },
        "id": "iX4aMTIAkLXx",
        "outputId": "57f59a4b-4578-4f23-f99d-492bb4dbf641"
      },
      "execution_count": 5,
      "outputs": [
        {
          "output_type": "display_data",
          "data": {
            "text/plain": [
              "<Figure size 1000x600 with 1 Axes>"
            ],
            "image/png": "[encoded data removed]"
          },
          "metadata": {}
        }
      ]
    },
    {
      "cell_type": "code",
      "source": [
        "df.drop_duplicates(subset='title', inplace=True)\n",
        "\n",
        "print(\"Dataset information after removing duplicates:\")\n",
        "print(df.info())\n",
        "print(\"Missing values in each column before handling:\")\n",
        "print(df.isnull().sum())\n",
        "\n",
        "df.dropna(inplace=True)\n",
        "\n",
        "print(\"\\nMissing values after handling:\")\n",
        "print(df.isnull().sum())\n",
        "\n",
        "# Save the cleaned dataset to a new file (e.g., CleanedDataset.csv)\n",
        "df.to_csv('CleanedDataset.csv', index=False)"
      ],
      "metadata": {
        "colab": {
          "base_uri": "https://localhost:8080/"
        },
        "id": "fk0E-mCUhTH_",
        "outputId": "54916290-9eca-4152-840e-1bfe61878dc5"
      },
      "execution_count": 6,
      "outputs": [
        {
          "output_type": "stream",
          "name": "stdout",
          "text": [
            "Dataset information after removing duplicates:\n",
            "<class 'pandas.core.frame.DataFrame'>\n",
            "Int64Index: 21398 entries, 0 to 23195\n",
            "Data columns (total 5 columns):\n",
            " #   Column         Non-Null Count  Dtype \n",
            "---  ------         --------------  ----- \n",
            " 0   title          21398 non-null  object\n",
            " 1   news_url       21398 non-null  object\n",
            " 2   source_domain  21398 non-null  object\n",
            " 3   tweet_num      21398 non-null  int64 \n",
            " 4   real           21398 non-null  int64 \n",
            "dtypes: int64(2), object(3)\n",
            "memory usage: 1003.0+ KB\n",
            "None\n",
            "Missing values in each column before handling:\n",
            "title            0\n",
            "news_url         0\n",
            "source_domain    0\n",
            "tweet_num        0\n",
            "real             0\n",
            "dtype: int64\n",
            "\n",
            "Missing values after handling:\n",
            "title            0\n",
            "news_url         0\n",
            "source_domain    0\n",
            "tweet_num        0\n",
            "real             0\n",
            "dtype: int64\n"
          ]
        }
      ]
    },
    {
      "cell_type": "code",
      "source": [
        "df = pd.read_csv('/content/CleanedDataset.csv')\n",
        "\n",
        "fake_news = df[df['real'] == 0]\n",
        "real_news = df[df['real'] == 1]\n",
        "\n",
        "# Determine the number of samples to take from each category\n",
        "desired_samples = min(len(fake_news), len(real_news))\n",
        "\n",
        "# Randomly sample from each category\n",
        "sampled_fake_news = fake_news.sample(n=desired_samples, random_state=42)\n",
        "sampled_real_news = real_news.sample(n=desired_samples, random_state=42)\n",
        "\n",
        "# Combine the sampled data to create a balanced dataset\n",
        "balanced_dataset = pd.concat([sampled_fake_news, sampled_real_news])\n",
        "\n",
        "# Save the balanced dataset to a new CSV file\n",
        "balanced_dataset.to_csv('balanced_fake_real_news_dataset.csv', index=False)\n",
        "\n",
        "print(f\"Balanced dataset saved as 'balanced_fake_real_news_dataset.csv' with {desired_samples} samples for each category.\")\n"
      ],
      "metadata": {
        "colab": {
          "base_uri": "https://localhost:8080/"
        },
        "id": "ra9dNgGhoKPv",
        "outputId": "405d64ed-2c0d-454d-a3da-a3b62010c43a"
      },
      "execution_count": 7,
      "outputs": [
        {
          "output_type": "stream",
          "name": "stdout",
          "text": [
            "Balanced dataset saved as 'balanced_fake_real_news_dataset.csv' with 4996 samples for each category.\n"
          ]
        }
      ]
    },
    {
      "cell_type": "code",
      "source": [
        "balanced_dataset = pd.read_csv('balanced_fake_real_news_dataset.csv')\n",
        "\n",
        "# Count the occurrences of each category (0 for fake news and 1 for real news)\n",
        "category_counts = balanced_dataset['real'].value_counts()\n",
        "\n",
        "# Print the counts\n",
        "print(\"Number of 0's (fake news):\", category_counts[0])\n",
        "print(\"Number of 1's (real news):\", category_counts[1])"
      ],
      "metadata": {
        "colab": {
          "base_uri": "https://localhost:8080/"
        },
        "id": "64cyacJrpMnu",
        "outputId": "f13ec146-8ab0-4c1e-d985-5f8e154b292a"
      },
      "execution_count": 8,
      "outputs": [
        {
          "output_type": "stream",
          "name": "stdout",
          "text": [
            "Number of 0's (fake news): 4996\n",
            "Number of 1's (real news): 4996\n"
          ]
        }
      ]
    },
    {
      "cell_type": "code",
      "source": [
        "balanced_dataset = pd.read_csv('balanced_fake_real_news_dataset.csv')\n",
        "\n",
        "X = balanced_dataset['title']\n",
        "y = balanced_dataset['real']\n",
        "\n",
        "# Splitting the dataset\n",
        "X_train, X_test, y_train, y_test = train_test_split(X, y, test_size=0.2, random_state=42, stratify=y)\n",
        "\n",
        "# Vectorizing the text data\n",
        "vectorizer = CountVectorizer(stop_words='english', max_features=5000, binary=True)\n",
        "X_train_bow = vectorizer.fit_transform(X_train)\n",
        "X_test_bow = vectorizer.transform(X_test)\n",
        "\n",
        "# Initialize the Tsetlin Machine with adjusted hyperparameters\n",
        "tm = MultiClassTsetlinMachine(number_of_clauses=100, T=15, s=3.9)\n",
        "\n",
        "# Train the TM on the BoW vectorized training data\n",
        "tm.fit(X_train_bow.toarray(), y_train)\n",
        "\n",
        "# Predictions\n",
        "y_pred_sparse = tm.predict(X_test_bow.toarray())\n",
        "y_pred = np.asarray(y_pred_sparse).flatten()\n",
        "\n",
        "# Evaluate the performance of the TM\n",
        "accuracy = accuracy_score(y_test, y_pred)\n",
        "precision = precision_score(y_test, y_pred)\n",
        "recall = recall_score(y_test, y_pred)\n",
        "f1 = f1_score(y_test, y_pred)\n",
        "conf_matrix = confusion_matrix(y_test, y_pred)\n",
        "\n",
        "print(f\"Accuracy: {accuracy:.2f}\")\n",
        "print(f\"Precision: {precision:.2f}\")\n",
        "print(f\"Recall: {recall:.2f}\")\n",
        "print(f\"F1 Score: {f1:.2f}\")\n",
        "print(\"Confusion Matrix:\")\n",
        "print(conf_matrix)"
      ],
      "metadata": {
        "colab": {
          "base_uri": "https://localhost:8080/"
        },
        "id": "VfBvgep04vWg",
        "outputId": "67ed7060-44bd-4179-91aa-1bc6babe119b"
      },
      "execution_count": 10,
      "outputs": [
        {
          "output_type": "stream",
          "name": "stdout",
          "text": [
            "Accuracy: 0.61\n",
            "Precision: 0.73\n",
            "Recall: 0.34\n",
            "F1 Score: 0.46\n",
            "Confusion Matrix:\n",
            "[[875 125]\n",
            " [664 335]]\n"
          ]
        }
      ]
    },
    {
      "cell_type": "code",
      "source": [
        "balanced_dataset = pd.read_csv('balanced_fake_real_news_dataset.csv')\n",
        "\n",
        "X = balanced_dataset['title']\n",
        "y = balanced_dataset['real']\n",
        "\n",
        "# Splitting the dataset\n",
        "X_train, X_test, y_train, y_test = train_test_split(X, y, test_size=0.2, random_state=42, stratify=y)\n",
        "\n",
        "# Vectorizing the text data\n",
        "vectorizer = CountVectorizer(stop_words='english', max_features=5000)\n",
        "X_train_bow = vectorizer.fit_transform(X_train)\n",
        "X_test_bow = vectorizer.transform(X_test)\n",
        "\n",
        "# Initialize the Naive Bayes classifier\n",
        "nb_classifier = MultinomialNB()\n",
        "\n",
        "# Train the classifier on the vectorized training data\n",
        "nb_classifier.fit(X_train_bow, y_train)\n",
        "\n",
        "# Predictions\n",
        "y_pred = nb_classifier.predict(X_test_bow)\n",
        "\n",
        "# Evaluate the performance of the classifier\n",
        "accuracy = accuracy_score(y_test, y_pred)\n",
        "precision = precision_score(y_test, y_pred)\n",
        "recall = recall_score(y_test, y_pred)\n",
        "f1 = f1_score(y_test, y_pred)\n",
        "conf_matrix = confusion_matrix(y_test, y_pred)\n",
        "\n",
        "print(f\"Accuracy: {accuracy:.2f}\")\n",
        "print(f\"Precision: {precision:.2f}\")\n",
        "print(f\"Recall: {recall:.2f}\")\n",
        "print(f\"F1 Score: {f1:.2f}\")\n",
        "print(\"Confusion Matrix:\")\n",
        "print(conf_matrix)"
      ],
      "metadata": {
        "colab": {
          "base_uri": "https://localhost:8080/"
        },
        "id": "NJi24BVwH3fx",
        "outputId": "9edd0924-a146-4fa0-ef70-cedfdcfbf8d3"
      },
      "execution_count": 12,
      "outputs": [
        {
          "output_type": "stream",
          "name": "stdout",
          "text": [
            "Accuracy: 0.76\n",
            "Precision: 0.77\n",
            "Recall: 0.75\n",
            "F1 Score: 0.76\n",
            "Confusion Matrix:\n",
            "[[774 226]\n",
            " [252 747]]\n"
          ]
        }
      ]
    }
  ]
}
